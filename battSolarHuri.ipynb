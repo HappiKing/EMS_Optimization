{
 "cells": [
  {
   "cell_type": "markdown",
   "metadata": {},
   "source": [
    "## 배터리 최적화(휴리스틱)"
   ]
  },
  {
   "cell_type": "markdown",
   "metadata": {},
   "source": [
    "### 데이터 전처리"
   ]
  },
  {
   "cell_type": "code",
   "execution_count": 364,
   "metadata": {},
   "outputs": [
    {
     "name": "stdout",
     "output_type": "stream",
     "text": [
      "자료형: <class 'numpy.ndarray'> 차원 (228, 1)\n",
      "자료형: <class 'numpy.ndarray'> 차원 (228, 1)\n",
      "자료형: <class 'numpy.ndarray'> 차원 (228, 1)\n",
      "자료형: <class 'numpy.ndarray'> 차원 (228, 1)\n",
      "자료형: <class 'numpy.ndarray'> 차원 (228, 1)\n"
     ]
    }
   ],
   "source": [
    "from scipy.io import loadmat\n",
    "import numpy as np\n",
    "np.set_printoptions(formatter={'float': '{:0.5f}'.format})\n",
    "\n",
    "import pandas as pd\n",
    "\n",
    "\n",
    "# .mat 파일 로드\n",
    "data = loadmat('pvLoadPriceData_test.mat')\n",
    "\n",
    "# 데이터 추출 예시\n",
    "# MATLAB 파일 내에 있는 변수 이름을 정확히 알아야 합니다. time, cloudyDay, clearDay, loadData, costData\n",
    "time = data['time'].flatten().reshape(-1, 1)\n",
    "\n",
    "cloudyDay = data['cloudyDay'].flatten().reshape(-1, 1)\n",
    "\n",
    "clearDay = data['clearDay'].flatten().reshape(-1, 1)\n",
    "\n",
    "loadData = data['loadData'][:, 2].reshape(-1, 1)\n",
    "\n",
    "costData = data['costData'].flatten().reshape(-1, 1)\n",
    "\n",
    "print(\"자료형:\", type(time), \"차원\" , time.shape, )\n",
    "print(\"자료형:\", type(cloudyDay), \"차원\" , cloudyDay.shape, )\n",
    "print(\"자료형:\", type(clearDay), \"차원\" , clearDay.shape, )\n",
    "print(\"자료형:\", type(loadData), \"차원\" , loadData.shape, )\n",
    "print(\"자료형:\", type(costData), \"차원\" , costData.shape, )\n",
    "\n"
   ]
  },
  {
   "cell_type": "markdown",
   "metadata": {},
   "source": [
    "### 데이터 처리"
   ]
  },
  {
   "cell_type": "code",
   "execution_count": 365,
   "metadata": {},
   "outputs": [
    {
     "name": "stderr",
     "output_type": "stream",
     "text": [
      "/var/folders/4j/gkyhxcv573j8gxl2r220cymm0000gn/T/ipykernel_14855/375655470.py:25: DeprecationWarning: Conversion of an array with ndim > 0 to a scalar is deprecated, and will error in future. Ensure you extract a single element from your array before performing this operation. (Deprecated NumPy 1.25.)\n",
      "  stepAdjust = int((timeOptimize * 60) / (time[1] - time[0]))\n"
     ]
    }
   ],
   "source": [
    "import numpy as np\n",
    "import matlab.engine\n",
    "import numpy as np\n",
    "\n",
    "# Load Power Data from Existing PV array\n",
    "# Assuming pvLoadPriceData is already loaded from file\n",
    "\n",
    "# Set up Optimization Parameters\n",
    "numDays = 1  # Number of consecutive days\n",
    "FinalWeight = 1.0  # Final weight on energy storage\n",
    "timeOptimize = 5  # Time step for optimization [min]\n",
    "\n",
    "# Battery/PV parameters\n",
    "panelArea = 2500\n",
    "panelEff = 0.3\n",
    "\n",
    "battEnergy = 2500 * 3.6e6\n",
    "Einit = 0.5 * battEnergy\n",
    "batteryMinMaxEmax = 0.8 * battEnergy\n",
    "batteryMinMaxEmin = 0.2 * battEnergy\n",
    "batteryMinMaxPmin = -400e3\n",
    "batteryMinMaxPmax = 400e3\n",
    "\n",
    "# Rescale data to align with desired time steps\n",
    "stepAdjust = int((timeOptimize * 60) / (time[1] - time[0]))\n",
    "cloudyPpv = panelArea * panelEff * np.tile(cloudyDay[2::stepAdjust], (numDays, 1))\n",
    "clearPpv = panelArea * panelEff * np.tile(clearDay[1::stepAdjust], (numDays, 1))\n",
    "\n",
    "# Adjust and Select Loading\n",
    "loadSelect = 1\n",
    "loadBase = 350e3\n",
    "loadFluc = np.tile(loadData[1::stepAdjust], (numDays, 1)) + loadBase\n",
    "\n",
    "# # Grid Price Values [$/kWh]\n",
    "C = np.tile(costData[1::stepAdjust], (numDays, 1))\n",
    "\n",
    "# Select Desired Data for Optimization\n",
    "Ppv = clearPpv\n",
    "# Ppv = cloudyPpv\n",
    "Pload = loadFluc\n",
    "\n",
    "# Setup Time Vectors\n",
    "dt = timeOptimize * 60.0\n",
    "N = numDays * (len(time[::stepAdjust]) - 1) * 1.0\n",
    "tvec = np.arange(1, N + 1) * dt\n",
    "\n"
   ]
  },
  {
   "cell_type": "markdown",
   "metadata": {},
   "source": [
    "### 배터리 최적화(LP최적화)"
   ]
  },
  {
   "cell_type": "code",
   "execution_count": 366,
   "metadata": {},
   "outputs": [],
   "source": [
    "def rule_based_control(Ppv, Pload, Ebatt, batteryMinMaxEmax, batteryMinMaxEmin, minSOC, maxSOC, Pmin, Pmax, time):\n",
    "    Pgrid = np.zeros_like(Pload)  # 전력 그리드 초기화\n",
    "    Pbatt = np.zeros_like(Pload)  # 배터리 전력 초기화\n",
    "    Pcmd = np.zeros_like(Pload)   # 명령 전력 초기화\n",
    "\n",
    "    for i in range(len(Pload)):\n",
    "        # 배터리 충전량이 최소 SOC 이하인지 확인\n",
    "        if Ebatt <= minSOC:\n",
    "            # 부하 감축: 태양광 발전량이 부족하여 그리드로부터 전력을 가져옴\n",
    "            Pgrid[i] = max(0, Pload[i] - Ppv[i])\n",
    "        # 시간이 지정된 시간 범위 내에 있는지 확인\n",
    "        elif (8 <= time[i] < 11 or 12 <= time[i] < 13 or 18 <= time[i] < 22) and minSOC < Ebatt < maxSOC:\n",
    "            # 부하가 태양광보다 클 때\n",
    "            if Pload[i] > Ppv[i]:\n",
    "                if Pload[i] - Ppv[i] < Pmin:\n",
    "                    # 충전: 배터리를 태양광 발전량으로 충전함\n",
    "                    Pbatt[i] = min(Ppv[i] - Pload[i], batteryMinMaxEmax - Ebatt)\n",
    "                    Ebatt += Pbatt[i]\n",
    "                else:\n",
    "                    # MPPT 끔: 배터리 충전량이 최대 충전 가능량을 초과함\n",
    "                    Pbatt[i] = 0\n",
    "                    Pcmd[i] = Pmin\n",
    "            # 태양광이 부하보다 클 때\n",
    "            elif Ppv[i] > Pload[i]:\n",
    "                if Ppv[i] - Pload[i] < Pmax:\n",
    "                    # 부하 감축: 태양광 발전량이 부하보다 많으므로 그리드에 전력을 공급하지 않음\n",
    "                    Pgrid[i] = max(0, Pload[i] - Ppv[i])\n",
    "                else:\n",
    "                    # Pcmd를 Pmax로 설정: 배터리를 사용하여 그리드에 최대 전력을 공급함\n",
    "                    Pcmd[i] = Pmax\n",
    "            # Pcmd가 Pmin과 같을 때\n",
    "            if Pcmd[i] == Pmin:\n",
    "                # 방전: 배터리를 사용하여 그리드에 전력을 공급함\n",
    "                Pbatt[i] = min(Ppv[i] - Pload[i], Ebatt - minSOC)\n",
    "                Ebatt -= Pbatt[i]\n",
    "        # 시간이 11-12, 13-18 또는 22시 이후인 경우\n",
    "        elif (11 <= time[i] < 12 or 13 <= time[i] < 18 or time[i] >= 22):\n",
    "            # 피크 시간: 그리드에 최대 전력을 공급함\n",
    "            Pcmd[i] = Pmax\n",
    "        # 배터리 충전량이 최대 SOC 이상인 경우\n",
    "        elif Ebatt >= maxSOC:\n",
    "            # MPPT 끔: 배터리 충전량이 최대 충전 가능량을 초과함\n",
    "            Pbatt[i] = 0\n",
    "    \n",
    "    return Pgrid, Pbatt, Pcmd\n",
    "\n",
    "# Usage\n",
    "Pgrid, Pbatt , Pcmd= rule_based_control(Ppv, Pload, Einit, batteryMinMaxEmax, batteryMinMaxEmin, batteryMinMaxEmax, batteryMinMaxEmin, batteryMinMaxPmin, batteryMinMaxPmax, time)\n"
   ]
  },
  {
   "cell_type": "markdown",
   "metadata": {},
   "source": [
    "### 그래프 출력"
   ]
  },
  {
   "cell_type": "code",
   "execution_count": 367,
   "metadata": {},
   "outputs": [
    {
     "data": {
      "image/png": "[encoded data removed]",
      "text/plain": [
       "<Figure size 640x480 with 2 Axes>"
      ]
     },
     "metadata": {},
     "output_type": "display_data"
    }
   ],
   "source": [
    "import matplotlib.pyplot as plt\n",
    "\n",
    "thour = tvec / 3600\n",
    "\n",
    "Ppv = np.array(Ppv)\n",
    "Pload = np.array(Pload)\n",
    "\n",
    "\n",
    "plt.subplot(3, 1, 2)\n",
    "# Assuming C is grid price\n",
    "plt.plot(thour, C)\n",
    "plt.grid(True)\n",
    "plt.xlabel('Time [hrs]')\n",
    "plt.ylabel('Grid Price [$/kWh]')\n",
    "\n",
    "plt.subplot(3, 1, 3)\n",
    "# Assuming Ppv, Pbatt, Pgrid, Pload are obtained from battSolarOptimize\n",
    "plt.plot(thour, Ppv / 1e3, thour, Pbatt / 1e3, thour, Pgrid / 1e3, thour, Pload / 1e3)\n",
    "plt.grid(True)\n",
    "plt.legend(['PV', 'ESS', 'Grid', 'Load'])\n",
    "plt.xlabel('Time [hrs]')\n",
    "plt.ylabel('Power [W]')\n",
    "\n",
    "plt.show()\n"
   ]
  },
  {
   "cell_type": "markdown",
   "metadata": {},
   "source": [
    "### 비용 계산"
   ]
  },
  {
   "cell_type": "code",
   "execution_count": 368,
   "metadata": {},
   "outputs": [],
   "source": [
    "cumulativeCost = np.cumsum(Pgrid * (dt / 3600) * C)"
   ]
  },
  {
   "cell_type": "code",
   "execution_count": 369,
   "metadata": {},
   "outputs": [
    {
     "data": {
      "text/plain": [
       "Text(0, 0.5, 'Cost[cent-kwh]')"
      ]
     },
     "execution_count": 369,
     "metadata": {},
     "output_type": "execute_result"
    },
    {
     "data": {
      "text/plain": [
       "<Figure size 640x480 with 0 Axes>"
      ]
     },
     "metadata": {},
     "output_type": "display_data"
    },
    {
     "data": {
      "image/png": "[encoded data removed]",
      "text/plain": [
       "<Figure size 640x480 with 1 Axes>"
      ]
     },
     "metadata": {},
     "output_type": "display_data"
    }
   ],
   "source": [
    "plt.figure()\n",
    "\n",
    "plt.figure()\n",
    "plt.subplot(3, 1, 1)\n",
    "# Assuming Ebatt, Pbatt, Pgrid are obtained from battSolarOptimize\n",
    "plt.plot(thour, cumulativeCost)\n",
    "plt.grid(True)\n",
    "plt.xlabel('Time [hrs]')\n",
    "plt.ylabel('Cost[cent-kwh]')"
   ]
  },
  {
   "cell_type": "code",
   "execution_count": 371,
   "metadata": {},
   "outputs": [
    {
     "data": {
      "text/plain": [
       "13288.610841594564"
      ]
     },
     "execution_count": 371,
     "metadata": {},
     "output_type": "execute_result"
    }
   ],
   "source": [
    "cumulativeCost[-1] * 10e-6"
   ]
  }
 ],
 "metadata": {
  "kernelspec": {
   "display_name": "hb",
   "language": "python",
   "name": "python3"
  },
  "language_info": {
   "codemirror_mode": {
    "name": "ipython",
    "version": 3
   },
   "file_extension": ".py",
   "mimetype": "text/x-python",
   "name": "python",
   "nbconvert_exporter": "python",
   "pygments_lexer": "ipython3",
   "version": "3.10.13"
  }
 },
 "nbformat": 4,
 "nbformat_minor": 2
}
